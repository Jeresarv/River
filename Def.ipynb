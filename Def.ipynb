{
  "nbformat": 4,
  "nbformat_minor": 0,
  "metadata": {
    "colab": {
      "provenance": [],
      "authorship_tag": "ABX9TyMrVHxrCSMZp+C8USuezeRe",
      "include_colab_link": true
    },
    "kernelspec": {
      "name": "python3",
      "display_name": "Python 3"
    },
    "language_info": {
      "name": "python"
    }
  },
  "cells": [
    {
      "cell_type": "markdown",
      "metadata": {
        "id": "view-in-github",
        "colab_type": "text"
      },
      "source": [
        "<a href=\"https://colab.research.google.com/github/Jeresarv/River/blob/main/Def.ipynb\" target=\"_parent\"><img src=\"https://colab.research.google.com/assets/colab-badge.svg\" alt=\"Open In Colab\"/></a>"
      ]
    },
    {
      "cell_type": "code",
      "execution_count": null,
      "metadata": {
        "colab": {
          "base_uri": "https://localhost:8080/"
        },
        "id": "BDW93UGJZE4W",
        "outputId": "e35532bb-2ee1-453c-eb34-5d5d990a3935"
      },
      "outputs": [
        {
          "output_type": "stream",
          "name": "stdout",
          "text": [
            "El doble es: 10\n",
            "El número mayor es: 10\n",
            "Ingresá un número del 1 al 10: 6\n",
            "Tabla de multiplicar del 6:\n",
            "6 x 1 = 6\n",
            "6 x 2 = 12\n",
            "6 x 3 = 18\n",
            "6 x 4 = 24\n",
            "6 x 5 = 30\n",
            "6 x 6 = 36\n",
            "6 x 7 = 42\n",
            "6 x 8 = 48\n",
            "6 x 9 = 54\n",
            "6 x 10 = 60\n",
            "Es impar\n",
            "1\n",
            "3\n",
            "5\n",
            "7\n",
            "9\n",
            "11\n",
            "13\n",
            "15\n",
            "17\n",
            "19\n",
            "El área del rectángulo es: 15\n",
            "=== MENÚ ===\n",
            "1. Saludar\n",
            "2. Mostrar fecha\n",
            "3. Salir\n",
            "Elegí una opción (1, 2 o 3): 2\n",
            "Fecha y hora actual: 09/06/2025 11:14:05\n"
          ]
        }
      ],
      "source": [
        "def calcular_doble(numero):\n",
        "    return numero * 2\n",
        "\n",
        "\n",
        "resultado = calcular_doble(5)\n",
        "print(\"El doble es:\", resultado)\n",
        "\n",
        "def mayor(num1, num2):\n",
        "    if num1 > num2:\n",
        "        return num1\n",
        "    else:\n",
        "        return num2\n",
        "\n",
        "\n",
        "resultado = mayor(10, 7)\n",
        "print(\"El número mayor es:\", resultado)\n",
        "\n",
        "def mostrar_tabla_multiplicar():\n",
        "    numero = int(input(\"Ingresá un número del 1 al 10: \"))\n",
        "\n",
        "    if 1 <= numero <= 10:\n",
        "        print(f\"Tabla de multiplicar del {numero}:\")\n",
        "        for i in range(1, 11):\n",
        "            resultado = numero * i\n",
        "            print(f\"{numero} x {i} = {resultado}\")\n",
        "    else:\n",
        "        print(\"Número fuera de rango. Debe estar entre 1 y 10.\")\n",
        "\n",
        "\n",
        "mostrar_tabla_multiplicar()\n",
        "def verificar_par_impar(numero):\n",
        "    if numero % 2 == 0:\n",
        "        return \"Es par\"\n",
        "    else:\n",
        "        return \"Es impar\"\n",
        "\n",
        "\n",
        "resultado = verificar_par_impar(7)\n",
        "print(resultado)\n",
        "\n",
        "def mostrar_de_dos_en_dos():\n",
        "    for i in range(1, 21, 2):\n",
        "        print(i)\n",
        "\n",
        "\n",
        "mostrar_de_dos_en_dos()\n",
        "\n",
        "def calcular_area_rectangulo(base, altura):\n",
        "    return base * altura\n",
        "\n",
        "\n",
        "area = calcular_area_rectangulo(5, 3)\n",
        "print(\"El área del rectángulo es:\", area)\n",
        "\n",
        "import datetime\n",
        "\n",
        "def menu_simple():\n",
        "    print(\"=== MENÚ ===\")\n",
        "    print(\"1. Saludar\")\n",
        "    print(\"2. Mostrar fecha\")\n",
        "    print(\"3. Salir\")\n",
        "\n",
        "    opcion = input(\"Elegí una opción (1, 2 o 3): \")\n",
        "\n",
        "    if opcion == \"1\":\n",
        "        print(\"¡Hola! ¿Cómo estás?\")\n",
        "    elif opcion == \"2\":\n",
        "        fecha_actual = datetime.datetime.now()\n",
        "        print(\"Fecha y hora actual:\", fecha_actual.strftime(\"%d/%m/%Y %H:%M:%S\"))\n",
        "    elif opcion == \"3\":\n",
        "        print(\"Saliendo del programa...\")\n",
        "    else:\n",
        "        print(\"Opción no válida. Por favor, elegí 1, 2 o 3.\")\n",
        "\n",
        "\n",
        "menu_simple()\n"
      ]
    }
  ]
}