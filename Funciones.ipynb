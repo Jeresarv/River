{
  "cells": [
    {
      "cell_type": "markdown",
      "metadata": {
        "id": "view-in-github",
        "colab_type": "text"
      },
      "source": [
        "<a href=\"https://colab.research.google.com/github/Jeresarv/River/blob/main/Funciones.ipynb\" target=\"_parent\"><img src=\"https://colab.research.google.com/assets/colab-badge.svg\" alt=\"Open In Colab\"/></a>"
      ]
    },
    {
      "cell_type": "code",
      "execution_count": null,
      "metadata": {
        "colab": {
          "background_save": true,
          "base_uri": "https://localhost:8080/"
        },
        "id": "KT5kXO6bFCiM",
        "outputId": "1b898a56-7225-4230-fbd4-76e107e2df0f"
      },
      "outputs": [
        {
          "name": "stdout",
          "output_type": "stream",
          "text": [
            "\n",
            "Registro del estudiante 1:\n",
            "\n",
            "Registro del estudiante 2:\n"
          ]
        }
      ],
      "source": [
        "# Función para registrar las visitas de los estudiantes\n",
        "def registrar_visitas():\n",
        "    registros = []\n",
        "    cantidad = 3  # Mínimo 3 estudiantes, puede ampliarse\n",
        "    for i in range(cantidad):\n",
        "        print(f\"\\nRegistro del estudiante {i+1}:\")\n",
        "        nombre = input(\"Ingrese el nombre: \")\n",
        "        curso = input(\"Ingrese el curso: \")\n",
        "        motivo_visita = input(\"Ingrese el motivo de visita al MakerSpace: \")\n",
        "\n",
        "        estudiante = {\n",
        "            \"nombre\": nombre,\n",
        "            \"curso\": curso,\n",
        "            \"motivo_visita\": motivo_visita\n",
        "        }\n",
        "        registros.append(estudiante)\n",
        "    return registros\n",
        "\n",
        "# Función para mostrar los datos\n",
        "def mostrar_datos(registros):\n",
        "    print(\"\\n--- Lista completa de visitas ---\")\n",
        "    for registro in registros:\n",
        "        print(registro)\n",
        "\n",
        "    # Contar visitas por curso\n",
        "    visitas_por_curso = {}\n",
        "    for registro in registros:\n",
        "        curso = registro[\"curso\"]\n",
        "        if curso in visitas_por_curso:\n",
        "            visitas_por_curso[curso] += 1\n",
        "        else:\n",
        "            visitas_por_curso[curso] = 1\n",
        "\n",
        "    print(\"\\n--- Cantidad de visitas por curso ---\")\n",
        "    for curso, cantidad in visitas_por_curso.items():\n",
        "        print(f\"{curso}: {cantidad} visita(s)\")\n",
        "\n",
        "    # Mostrar el nombre del primer estudiante\n",
        "    if registros:\n",
        "        print(\"\\nPrimer estudiante registrado:\", registros[0][\"nombre\"])\n",
        "\n",
        "# Función principal para organizar la ejecución\n",
        "def main():\n",
        "    registros = registrar_visitas()\n",
        "    mostrar_datos(registros)\n",
        "\n",
        "# Ejecutar solo si se ejecuta directamente\n",
        "if __name__ == \"__main__\":\n",
        "    main()\n",
        "\n",
        "\n"
      ]
    }
  ],
  "metadata": {
    "colab": {
      "provenance": [],
      "authorship_tag": "ABX9TyOkFaMxnzepCZNor6KE1U2e",
      "include_colab_link": true
    },
    "kernelspec": {
      "display_name": "Python 3",
      "name": "python3"
    },
    "language_info": {
      "name": "python"
    }
  },
  "nbformat": 4,
  "nbformat_minor": 0
}